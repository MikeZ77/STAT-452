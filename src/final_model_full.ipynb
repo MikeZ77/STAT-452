{
 "cells": [
  {
   "cell_type": "code",
   "execution_count": 16,
   "id": "675423e1",
   "metadata": {},
   "outputs": [],
   "source": [
    "# Dependencies\n",
    "# pip3 install numpy pandas scikit-learn\n",
    "# These are the latest versions since, 24/11/2021, and the major version should not have changed since then.\n",
    "import pandas as pd\n",
    "import numpy as np\n",
    "from sklearn.ensemble import GradientBoostingRegressor"
   ]
  },
  {
   "cell_type": "code",
   "execution_count": 17,
   "id": "3ac76f3f",
   "metadata": {},
   "outputs": [],
   "source": [
    "# Create a directory next to the directory this script is located in\n",
    "# train.csv = Data2021_final.csv\n",
    "# test.csv = Data2021test_final_noY.csv\n",
    "train = pd.read_csv('../data/train.csv')\n",
    "X_test = pd.read_csv('../data/test.csv')\n",
    "y_train = train['Y']\n",
    "X_train = train[['X1','X15','X12','X4']]\n",
    "X_test = X_test[['X1','X15','X12','X4']]"
   ]
  },
  {
   "cell_type": "code",
   "execution_count": 18,
   "id": "665c0b93",
   "metadata": {},
   "outputs": [
    {
     "data": {
      "text/plain": [
       "GradientBoostingRegressor(learning_rate=0.01, max_depth=4, max_features='sqrt',\n",
       "                          min_samples_leaf=5, min_samples_split=3,\n",
       "                          n_estimators=580)"
      ]
     },
     "execution_count": 18,
     "metadata": {},
     "output_type": "execute_result"
    }
   ],
   "source": [
    "best_params = {\n",
    "    'learning_rate': 0.01, \n",
    "    'max_depth': 4, \n",
    "    'max_features': 'sqrt', \n",
    "    'min_samples_leaf': 5, \n",
    "    'min_samples_split': 3, \n",
    "    'n_estimators': 580,\n",
    "    'loss': 'squared_error'\n",
    "}\n",
    "\n",
    "model = GradientBoostingRegressor(**best_params)\n",
    "model.fit(X_train, y_train)"
   ]
  },
  {
   "cell_type": "code",
   "execution_count": 19,
   "id": "cab829b0",
   "metadata": {},
   "outputs": [],
   "source": [
    "predictions = model.predict(X_test)\n",
    "predictions = pd.DataFrame(predictions, columns=['score'])\n",
    "# Outputs the predictions.csv in the directory of this script.\n",
    "predictions.to_csv('predictions.csv', header=False, index=False)"
   ]
  },
  {
   "cell_type": "code",
   "execution_count": null,
   "id": "5ec7bcda",
   "metadata": {},
   "outputs": [],
   "source": []
  }
 ],
 "metadata": {
  "kernelspec": {
   "display_name": "Python 3 (ipykernel)",
   "language": "python",
   "name": "python3"
  },
  "language_info": {
   "codemirror_mode": {
    "name": "ipython",
    "version": 3
   },
   "file_extension": ".py",
   "mimetype": "text/x-python",
   "name": "python",
   "nbconvert_exporter": "python",
   "pygments_lexer": "ipython3",
   "version": "3.8.10"
  }
 },
 "nbformat": 4,
 "nbformat_minor": 5
}
