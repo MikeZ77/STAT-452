{
 "cells": [
  {
   "cell_type": "code",
   "execution_count": 3,
   "id": "76617315",
   "metadata": {},
   "outputs": [],
   "source": [
    "import numpy as np\n",
    "import pandas as pd\n",
    "from sklearn.preprocessing import StandardScaler\n",
    "from sklearn.model_selection import RepeatedKFold\n",
    "from sklearn.model_selection import cross_val_score\n",
    "from sklearn.ensemble import RandomForestRegressor, GradientBoostingRegressor\n",
    "from sklearn.linear_model import Ridge, Lasso\n",
    "from sklearn.svm import SVR\n",
    "from xgboost.sklearn import XGBRegressor\n",
    "from sklearn.metrics import mean_squared_error\n",
    "from sklearn.metrics import make_scorer\n",
    "from sklearn.pipeline import make_pipeline\n",
    "import seaborn as sns\n",
    "import matplotlib.pyplot as plt\n",
    "%matplotlib inline"
   ]
  },
  {
   "cell_type": "code",
   "execution_count": 4,
   "id": "7452fca9",
   "metadata": {},
   "outputs": [
    {
     "data": {
      "text/html": [
       "<div>\n",
       "<style scoped>\n",
       "    .dataframe tbody tr th:only-of-type {\n",
       "        vertical-align: middle;\n",
       "    }\n",
       "\n",
       "    .dataframe tbody tr th {\n",
       "        vertical-align: top;\n",
       "    }\n",
       "\n",
       "    .dataframe thead th {\n",
       "        text-align: right;\n",
       "    }\n",
       "</style>\n",
       "<table border=\"1\" class=\"dataframe\">\n",
       "  <thead>\n",
       "    <tr style=\"text-align: right;\">\n",
       "      <th></th>\n",
       "      <th>Y</th>\n",
       "      <th>X1</th>\n",
       "      <th>X2</th>\n",
       "      <th>X3</th>\n",
       "      <th>X4</th>\n",
       "      <th>X5</th>\n",
       "      <th>X6</th>\n",
       "      <th>X7</th>\n",
       "      <th>X8</th>\n",
       "      <th>X9</th>\n",
       "      <th>X10</th>\n",
       "      <th>X11</th>\n",
       "      <th>X12</th>\n",
       "      <th>X13</th>\n",
       "      <th>X14</th>\n",
       "      <th>X15</th>\n",
       "    </tr>\n",
       "  </thead>\n",
       "  <tbody>\n",
       "    <tr>\n",
       "      <th>0</th>\n",
       "      <td>12.083210</td>\n",
       "      <td>16</td>\n",
       "      <td>7</td>\n",
       "      <td>15.9</td>\n",
       "      <td>1</td>\n",
       "      <td>13.6</td>\n",
       "      <td>26</td>\n",
       "      <td>3.6</td>\n",
       "      <td>-20.0</td>\n",
       "      <td>6</td>\n",
       "      <td>2</td>\n",
       "      <td>378</td>\n",
       "      <td>6</td>\n",
       "      <td>7.85</td>\n",
       "      <td>1042.80</td>\n",
       "      <td>6</td>\n",
       "    </tr>\n",
       "    <tr>\n",
       "      <th>1</th>\n",
       "      <td>12.433754</td>\n",
       "      <td>19</td>\n",
       "      <td>14</td>\n",
       "      <td>16.4</td>\n",
       "      <td>3</td>\n",
       "      <td>16.7</td>\n",
       "      <td>19</td>\n",
       "      <td>3.5</td>\n",
       "      <td>32.9</td>\n",
       "      <td>0</td>\n",
       "      <td>3</td>\n",
       "      <td>595</td>\n",
       "      <td>11</td>\n",
       "      <td>0.86</td>\n",
       "      <td>83.55</td>\n",
       "      <td>5</td>\n",
       "    </tr>\n",
       "    <tr>\n",
       "      <th>2</th>\n",
       "      <td>11.659181</td>\n",
       "      <td>12</td>\n",
       "      <td>14</td>\n",
       "      <td>16.0</td>\n",
       "      <td>2</td>\n",
       "      <td>16.5</td>\n",
       "      <td>17</td>\n",
       "      <td>3.8</td>\n",
       "      <td>45.4</td>\n",
       "      <td>0</td>\n",
       "      <td>2</td>\n",
       "      <td>210</td>\n",
       "      <td>8</td>\n",
       "      <td>1.30</td>\n",
       "      <td>134.29</td>\n",
       "      <td>5</td>\n",
       "    </tr>\n",
       "    <tr>\n",
       "      <th>3</th>\n",
       "      <td>15.449989</td>\n",
       "      <td>21</td>\n",
       "      <td>2</td>\n",
       "      <td>16.3</td>\n",
       "      <td>4</td>\n",
       "      <td>9.6</td>\n",
       "      <td>23</td>\n",
       "      <td>3.4</td>\n",
       "      <td>29.0</td>\n",
       "      <td>26</td>\n",
       "      <td>4</td>\n",
       "      <td>1353</td>\n",
       "      <td>10</td>\n",
       "      <td>5.52</td>\n",
       "      <td>736.77</td>\n",
       "      <td>11</td>\n",
       "    </tr>\n",
       "    <tr>\n",
       "      <th>4</th>\n",
       "      <td>12.805393</td>\n",
       "      <td>11</td>\n",
       "      <td>11</td>\n",
       "      <td>15.3</td>\n",
       "      <td>2</td>\n",
       "      <td>11.9</td>\n",
       "      <td>22</td>\n",
       "      <td>3.5</td>\n",
       "      <td>35.0</td>\n",
       "      <td>1</td>\n",
       "      <td>3</td>\n",
       "      <td>790</td>\n",
       "      <td>8</td>\n",
       "      <td>1.63</td>\n",
       "      <td>407.42</td>\n",
       "      <td>4</td>\n",
       "    </tr>\n",
       "  </tbody>\n",
       "</table>\n",
       "</div>"
      ],
      "text/plain": [
       "           Y  X1  X2    X3  X4    X5  X6   X7    X8  X9  X10   X11  X12   X13  \\\n",
       "0  12.083210  16   7  15.9   1  13.6  26  3.6 -20.0   6    2   378    6  7.85   \n",
       "1  12.433754  19  14  16.4   3  16.7  19  3.5  32.9   0    3   595   11  0.86   \n",
       "2  11.659181  12  14  16.0   2  16.5  17  3.8  45.4   0    2   210    8  1.30   \n",
       "3  15.449989  21   2  16.3   4   9.6  23  3.4  29.0  26    4  1353   10  5.52   \n",
       "4  12.805393  11  11  15.3   2  11.9  22  3.5  35.0   1    3   790    8  1.63   \n",
       "\n",
       "       X14  X15  \n",
       "0  1042.80    6  \n",
       "1    83.55    5  \n",
       "2   134.29    5  \n",
       "3   736.77   11  \n",
       "4   407.42    4  "
      ]
     },
     "execution_count": 4,
     "metadata": {},
     "output_type": "execute_result"
    }
   ],
   "source": [
    "train = pd.read_csv('../data/train.csv')\n",
    "X_test = pd.read_csv('../data/test.csv')\n",
    "y_train = train['Y']\n",
    "X_train = train.drop('Y', axis=1)\n",
    "train.head()"
   ]
  },
  {
   "cell_type": "code",
   "execution_count": 5,
   "id": "149feb74",
   "metadata": {},
   "outputs": [],
   "source": [
    "cv = RepeatedKFold(n_splits=5, n_repeats=20, random_state=1)\n",
    "model = RandomForestRegressor(max_depth=5, random_state=0)\n",
    "rf_scores = cross_val_score(model, X_train, y_train, scoring=make_scorer(mean_squared_error,greater_is_better=False), cv=cv, n_jobs=-1)\n",
    "rf_scores = np.abs(rf_scores)"
   ]
  },
  {
   "cell_type": "code",
   "execution_count": 6,
   "id": "1ad6d985",
   "metadata": {},
   "outputs": [],
   "source": [
    "cv = RepeatedKFold(n_splits=5, n_repeats=20, random_state=1)\n",
    "pipe = make_pipeline(StandardScaler(), Ridge())\n",
    "ridge_scores = cross_val_score(pipe, X_train, y_train, scoring=make_scorer(mean_squared_error,greater_is_better=False), cv=cv, n_jobs=-1)\n",
    "ridge_scores = np.abs(ridge_scores)"
   ]
  },
  {
   "cell_type": "code",
   "execution_count": 7,
   "id": "716f3103",
   "metadata": {},
   "outputs": [],
   "source": [
    "cv = RepeatedKFold(n_splits=5, n_repeats=20, random_state=1)\n",
    "pipe = make_pipeline(StandardScaler(), Lasso())\n",
    "lasso_scores = cross_val_score(pipe, X_train, y_train, scoring=make_scorer(mean_squared_error,greater_is_better=False), cv=cv, n_jobs=-1)\n",
    "lasso_scores = np.abs(lasso_scores)"
   ]
  },
  {
   "cell_type": "code",
   "execution_count": 8,
   "id": "76228140",
   "metadata": {},
   "outputs": [],
   "source": [
    "cv = RepeatedKFold(n_splits=5, n_repeats=20, random_state=1)\n",
    "model = GradientBoostingRegressor(random_state=0)\n",
    "gb_scores = cross_val_score(model, X_train, y_train, scoring=make_scorer(mean_squared_error,greater_is_better=False), cv=cv, n_jobs=-1)\n",
    "gb_scores = np.abs(gb_scores)"
   ]
  },
  {
   "cell_type": "code",
   "execution_count": 9,
   "id": "2ef6cb81",
   "metadata": {},
   "outputs": [],
   "source": [
    "cv = RepeatedKFold(n_splits=5, n_repeats=20, random_state=1)\n",
    "pipe = make_pipeline(StandardScaler(), SVR(kernel='linear'))\n",
    "svr_scores = cross_val_score(pipe, X_train, y_train, scoring=make_scorer(mean_squared_error,greater_is_better=False), cv=cv, n_jobs=-1)\n",
    "svr_scores = np.abs(svr_scores)"
   ]
  },
  {
   "cell_type": "code",
   "execution_count": 10,
   "id": "38a33216",
   "metadata": {},
   "outputs": [],
   "source": [
    "cv = RepeatedKFold(n_splits=5, n_repeats=20, random_state=1)\n",
    "model = XGBRegressor()\n",
    "xgb_scores = cross_val_score(model, X_train, y_train, scoring=make_scorer(mean_squared_error,greater_is_better=False), cv=cv, n_jobs=-1)\n",
    "xgb_scores = np.abs(xgb_scores)"
   ]
  },
  {
   "cell_type": "code",
   "execution_count": 12,
   "id": "c451dd32",
   "metadata": {},
   "outputs": [
    {
     "data": {
      "text/plain": [
       "[Text(0.5, 0, 'Models'),\n",
       " Text(0, 0.5, 'MSE'),\n",
       " Text(0.5, 1.0, 'MSPE for Initial Models')]"
      ]
     },
     "execution_count": 12,
     "metadata": {},
     "output_type": "execute_result"
    },
    {
     "data": {
      "image/png": "[encoded data removed]",
      "text/plain": [
       "<Figure size 720x432 with 1 Axes>"
      ]
     },
     "metadata": {
      "needs_background": "light"
     },
     "output_type": "display_data"
    }
   ],
   "source": [
    "results_df = dataset = pd.DataFrame({'Rf': rf_scores, 'Ridge': ridge_scores, 'Lasso': lasso_scores, 'Gb': gb_scores, 'Svr': svr_scores, 'Xgb': xgb_scores})\n",
    "plt.figure(figsize=(10,6))\n",
    "ax = sns.boxplot(data=results_df)\n",
    "ax.set(xlabel='Models', ylabel='MSE', title='MSPE for Initial Models')"
   ]
  },
  {
   "cell_type": "code",
   "execution_count": null,
   "id": "b69969b8",
   "metadata": {},
   "outputs": [],
   "source": []
  }
 ],
 "metadata": {
  "kernelspec": {
   "display_name": "Python 3 (ipykernel)",
   "language": "python",
   "name": "python3"
  },
  "language_info": {
   "codemirror_mode": {
    "name": "ipython",
    "version": 3
   },
   "file_extension": ".py",
   "mimetype": "text/x-python",
   "name": "python",
   "nbconvert_exporter": "python",
   "pygments_lexer": "ipython3",
   "version": "3.8.10"
  }
 },
 "nbformat": 4,
 "nbformat_minor": 5
}
